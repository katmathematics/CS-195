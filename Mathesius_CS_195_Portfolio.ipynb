{
  "nbformat": 4,
  "nbformat_minor": 0,
  "metadata": {
    "colab": {
      "provenance": [],
      "authorship_tag": "ABX9TyPB1+EQtr1Z7BDVoUwUBK/Y",
      "include_colab_link": true
    },
    "kernelspec": {
      "name": "python3",
      "display_name": "Python 3"
    },
    "language_info": {
      "name": "python"
    }
  },
  "cells": [
    {
      "cell_type": "markdown",
      "metadata": {
        "id": "view-in-github",
        "colab_type": "text"
      },
      "source": [
        "<a href=\"https://colab.research.google.com/github/katmathematics/CS-195/blob/main/Mathesius_CS_195_Portfolio.ipynb\" target=\"_parent\"><img src=\"https://colab.research.google.com/assets/colab-badge.svg\" alt=\"Open In Colab\"/></a>"
      ]
    },
    {
      "cell_type": "markdown",
      "source": [
        "# CS 195 - Natural Language Processing Code Portfolio\n",
        "## Author: Katja Mathesius"
      ],
      "metadata": {
        "id": "A6BtcZw6DPiy"
      }
    },
    {
      "cell_type": "markdown",
      "source": [
        "## Fortnight 1: Exploring pre-trained NLP models. :\n",
        "### Date: Aug 28 - Sep 12\n",
        "\n",
        "\n",
        "\n",
        "*   [Introduction to Hugging Face Transformers Library](https://colab.research.google.com/drive/1Esjeim0Oynz4p5A4j7EWBnxM5jzC171v?usp=sharing)\n",
        "*   [Loading Data and Evaluating Classification Models](https://colab.research.google.com/drive/1b5wVb1yyYaLU-MRtpwJZsymeL8CDxzWn#scrollTo=FaaY3l9IOk4G)\n",
        "\n"
      ],
      "metadata": {
        "id": "zLoidKMNDT0M"
      }
    }
  ]
}